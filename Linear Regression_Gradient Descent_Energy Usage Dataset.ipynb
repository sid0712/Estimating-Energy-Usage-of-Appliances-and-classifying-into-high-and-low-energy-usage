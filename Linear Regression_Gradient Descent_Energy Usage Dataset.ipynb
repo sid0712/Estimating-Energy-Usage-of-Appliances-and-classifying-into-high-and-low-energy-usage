{
 "cells": [
  {
   "cell_type": "code",
   "execution_count": 64,
   "metadata": {},
   "outputs": [],
   "source": [
    "\"\"\"\n",
    "BUAN 6341: Applied Machine Learning\n",
    "Homework 1_Linear Regression\n",
    "\n",
    "Siddhartha Shankar\n",
    "\"\"\"\n",
    "import os\n",
    "import numpy as np\n",
    "import pandas as pd\n",
    "import seaborn as sb\n",
    "import matplotlib.pyplot as plt\n",
    "from sklearn.model_selection import train_test_split\n",
    "from sklearn import preprocessing\n",
    "import random"
   ]
  },
  {
   "cell_type": "code",
   "execution_count": 21,
   "metadata": {},
   "outputs": [
    {
     "data": {
      "text/plain": [
       "(19735, 29)"
      ]
     },
     "execution_count": 21,
     "metadata": {},
     "output_type": "execute_result"
    }
   ],
   "source": [
    "#os.getcwd()\n",
    "energy_data = pd.read_csv(\"energydata_complete.csv\")\n",
    "energy_data.shape"
   ]
  },
  {
   "cell_type": "code",
   "execution_count": 22,
   "metadata": {},
   "outputs": [
    {
     "data": {
      "text/plain": [
       "pandas.core.frame.DataFrame"
      ]
     },
     "execution_count": 22,
     "metadata": {},
     "output_type": "execute_result"
    }
   ],
   "source": [
    "type(energy_data)"
   ]
  },
  {
   "cell_type": "code",
   "execution_count": 23,
   "metadata": {},
   "outputs": [
    {
     "data": {
      "text/plain": [
       "<bound method NDFrame.describe of                       date  Appliances  lights         T1       RH_1  \\\n",
       "0      2016-01-11 17:00:00          60      30  19.890000  47.596667   \n",
       "1      2016-01-11 17:10:00          60      30  19.890000  46.693333   \n",
       "2      2016-01-11 17:20:00          50      30  19.890000  46.300000   \n",
       "3      2016-01-11 17:30:00          50      40  19.890000  46.066667   \n",
       "4      2016-01-11 17:40:00          60      40  19.890000  46.333333   \n",
       "5      2016-01-11 17:50:00          50      40  19.890000  46.026667   \n",
       "6      2016-01-11 18:00:00          60      50  19.890000  45.766667   \n",
       "7      2016-01-11 18:10:00          60      50  19.856667  45.560000   \n",
       "8      2016-01-11 18:20:00          60      40  19.790000  45.597500   \n",
       "9      2016-01-11 18:30:00          70      40  19.856667  46.090000   \n",
       "10     2016-01-11 18:40:00         230      70  19.926667  45.863333   \n",
       "11     2016-01-11 18:50:00         580      60  20.066667  46.396667   \n",
       "12     2016-01-11 19:00:00         430      50  20.133333  48.000000   \n",
       "13     2016-01-11 19:10:00         250      40  20.260000  52.726667   \n",
       "14     2016-01-11 19:20:00         100      10  20.426667  55.893333   \n",
       "15     2016-01-11 19:30:00         100      10  20.566667  53.893333   \n",
       "16     2016-01-11 19:40:00          90      10  20.730000  52.660000   \n",
       "17     2016-01-11 19:50:00          70      30  20.856667  53.660000   \n",
       "18     2016-01-11 20:00:00          80      30  20.890000  51.193333   \n",
       "19     2016-01-11 20:10:00         140      40  20.890000  49.800000   \n",
       "20     2016-01-11 20:20:00         120      20  20.890000  48.433333   \n",
       "21     2016-01-11 20:30:00         190      40  20.963333  47.633333   \n",
       "22     2016-01-11 20:40:00         110      40  21.033333  47.063333   \n",
       "23     2016-01-11 20:50:00         110      40  21.100000  46.596667   \n",
       "24     2016-01-11 21:00:00         110      30  21.133333  46.060000   \n",
       "25     2016-01-11 21:10:00         110      20  21.200000  45.800000   \n",
       "26     2016-01-11 21:20:00         100      30  21.290000  45.900000   \n",
       "27     2016-01-11 21:30:00         100      20  21.356667  45.826667   \n",
       "28     2016-01-11 21:40:00         100      20  21.390000  45.690000   \n",
       "29     2016-01-11 21:50:00         100      20  21.500000  45.333333   \n",
       "...                    ...         ...     ...        ...        ...   \n",
       "19705  2016-05-27 13:10:00         280       0  25.033333  48.363333   \n",
       "19706  2016-05-27 13:20:00         240       0  25.166667  48.156667   \n",
       "19707  2016-05-27 13:30:00         250       0  25.323333  47.930000   \n",
       "19708  2016-05-27 13:40:00         220       0  25.390000  47.656667   \n",
       "19709  2016-05-27 13:50:00         230       0  25.500000  47.133333   \n",
       "19710  2016-05-27 14:00:00         190      10  25.500000  47.060000   \n",
       "19711  2016-05-27 14:10:00         160       0  25.600000  46.990000   \n",
       "19712  2016-05-27 14:20:00          80       0  25.600000  46.730000   \n",
       "19713  2016-05-27 14:30:00          60       0  25.566667  46.633333   \n",
       "19714  2016-05-27 14:40:00          60       0  25.500000  46.360000   \n",
       "19715  2016-05-27 14:50:00          60       0  25.500000  46.060000   \n",
       "19716  2016-05-27 15:00:00          60       0  25.500000  45.933333   \n",
       "19717  2016-05-27 15:10:00          70       0  25.500000  45.760000   \n",
       "19718  2016-05-27 15:20:00          80       0  25.500000  45.626667   \n",
       "19719  2016-05-27 15:30:00          80       0  25.500000  45.590000   \n",
       "19720  2016-05-27 15:40:00          70       0  25.500000  45.522500   \n",
       "19721  2016-05-27 15:50:00         100       0  25.500000  45.633333   \n",
       "19722  2016-05-27 16:00:00         100       0  25.500000  45.730000   \n",
       "19723  2016-05-27 16:10:00          90       0  25.500000  45.790000   \n",
       "19724  2016-05-27 16:20:00         100       0  25.500000  45.933333   \n",
       "19725  2016-05-27 16:30:00         220       0  25.426667  46.060000   \n",
       "19726  2016-05-27 16:40:00         180       0  25.500000  46.530000   \n",
       "19727  2016-05-27 16:50:00         120       0  25.500000  47.456667   \n",
       "19728  2016-05-27 17:00:00         110       0  25.600000  47.193333   \n",
       "19729  2016-05-27 17:10:00          90       0  25.533333  46.860000   \n",
       "19730  2016-05-27 17:20:00         100       0  25.566667  46.560000   \n",
       "19731  2016-05-27 17:30:00          90       0  25.500000  46.500000   \n",
       "19732  2016-05-27 17:40:00         270      10  25.500000  46.596667   \n",
       "19733  2016-05-27 17:50:00         420      10  25.500000  46.990000   \n",
       "19734  2016-05-27 18:00:00         430      10  25.500000  46.600000   \n",
       "\n",
       "              T2       RH_2         T3       RH_3         T4  ...         T9  \\\n",
       "0      19.200000  44.790000  19.790000  44.730000  19.000000  ...  17.033333   \n",
       "1      19.200000  44.722500  19.790000  44.790000  19.000000  ...  17.066667   \n",
       "2      19.200000  44.626667  19.790000  44.933333  18.926667  ...  17.000000   \n",
       "3      19.200000  44.590000  19.790000  45.000000  18.890000  ...  17.000000   \n",
       "4      19.200000  44.530000  19.790000  45.000000  18.890000  ...  17.000000   \n",
       "5      19.200000  44.500000  19.790000  44.933333  18.890000  ...  17.000000   \n",
       "6      19.200000  44.500000  19.790000  44.900000  18.890000  ...  17.000000   \n",
       "7      19.200000  44.500000  19.730000  44.900000  18.890000  ...  17.000000   \n",
       "8      19.200000  44.433333  19.730000  44.790000  18.890000  ...  17.000000   \n",
       "9      19.230000  44.400000  19.790000  44.863333  18.890000  ...  17.000000   \n",
       "10     19.356667  44.400000  19.790000  44.900000  18.890000  ...  17.000000   \n",
       "11     19.426667  44.400000  19.790000  44.826667  19.000000  ...  16.890000   \n",
       "12     19.566667  44.400000  19.890000  44.900000  19.000000  ...  16.963333   \n",
       "13     19.730000  45.100000  19.890000  45.493333  19.000000  ...  16.890000   \n",
       "14     19.856667  45.833333  20.033333  47.526667  19.000000  ...  16.890000   \n",
       "15     20.033333  46.756667  20.100000  48.466667  19.000000  ...  16.890000   \n",
       "16     20.166667  47.223333  20.200000  48.530000  18.926667  ...  16.890000   \n",
       "17     20.200000  47.056667  20.200000  48.447500  18.890000  ...  16.890000   \n",
       "18     20.200000  46.330000  20.200000  48.193333  18.963333  ...  16.890000   \n",
       "19     20.200000  46.026667  20.166667  47.633333  19.033333  ...  16.890000   \n",
       "20     20.200000  45.722500  20.166667  47.300000  19.175000  ...  16.890000   \n",
       "21     20.260000  45.530000  20.200000  47.026667  19.260000  ...  16.890000   \n",
       "22     20.290000  45.223333  20.260000  46.826667  19.323333  ...  16.890000   \n",
       "23     20.356667  44.963333  20.290000  46.633333  19.390000  ...  16.890000   \n",
       "24     20.426667  44.760000  20.290000  46.433333  19.390000  ...  16.890000   \n",
       "25     20.500000  44.760000  20.390000  46.223333  19.390000  ...  16.890000   \n",
       "26     20.533333  45.090000  20.390000  46.090000  19.390000  ...  16.890000   \n",
       "27     20.666667  45.163333  20.390000  46.090000  19.390000  ...  16.890000   \n",
       "28     20.700000  45.060000  20.390000  46.090000  19.426667  ...  16.890000   \n",
       "29     20.700000  44.933333  20.390000  46.060000  19.566667  ...  16.890000   \n",
       "...          ...        ...        ...        ...        ...  ...        ...   \n",
       "19705  26.528571  40.595714  28.496667  41.900000  24.500000  ...  23.100000   \n",
       "19706  26.600000  40.940000  28.290000  41.966667  24.500000  ...  23.100000   \n",
       "19707  26.600000  41.012857  28.200000  42.090000  24.533333  ...  23.100000   \n",
       "19708  26.600000  41.036000  28.200000  42.030000  24.600000  ...  23.100000   \n",
       "19709  26.600000  41.000000  28.200000  41.796667  24.600000  ...  23.100000   \n",
       "19710  26.540000  41.000000  28.200000  41.530000  24.600000  ...  23.100000   \n",
       "19711  26.512500  41.203750  28.200000  41.590000  24.633333  ...  23.100000   \n",
       "19712  26.437143  41.384286  28.426667  41.430000  24.700000  ...  23.100000   \n",
       "19713  26.370000  41.378000  28.566667  41.156667  24.700000  ...  23.100000   \n",
       "19714  26.318571  41.264286  28.566667  40.663333  24.700000  ...  23.100000   \n",
       "19715  26.350000  41.000000  28.426667  40.590000  24.666667  ...  23.100000   \n",
       "19716  26.277143  41.000000  28.356667  40.560000  24.666667  ...  23.100000   \n",
       "19717  26.200000  41.000000  28.290000  40.433333  24.700000  ...  23.133333   \n",
       "19718  26.171429  41.000000  28.260000  40.260000  24.700000  ...  23.133333   \n",
       "19719  26.100000  41.000000  28.200000  40.126667  24.700000  ...  23.166667   \n",
       "19720  26.100000  41.051429  28.200000  40.200000  24.700000  ...  23.100000   \n",
       "19721  26.080000  41.196000  28.133333  40.260000  24.700000  ...  23.200000   \n",
       "19722  26.000000  41.428571  28.100000  40.433333  24.700000  ...  23.200000   \n",
       "19723  26.000000  41.590000  28.100000  40.560000  24.700000  ...  23.160000   \n",
       "19724  26.000000  41.652857  28.000000  40.700000  24.700000  ...  23.200000   \n",
       "19725  26.000000  41.700000  28.000000  40.760000  24.700000  ...  23.200000   \n",
       "19726  26.000000  41.725714  27.856667  40.500000  24.700000  ...  23.200000   \n",
       "19727  26.000000  42.320000  27.663333  40.693333  24.700000  ...  23.200000   \n",
       "19728  25.968571  42.528571  27.390000  41.030000  24.700000  ...  23.200000   \n",
       "19729  25.978000  42.534000  27.323333  41.090000  24.700000  ...  23.200000   \n",
       "19730  25.890000  42.025714  27.200000  41.163333  24.700000  ...  23.200000   \n",
       "19731  25.754000  42.080000  27.133333  41.223333  24.700000  ...  23.200000   \n",
       "19732  25.628571  42.768571  27.050000  41.690000  24.700000  ...  23.200000   \n",
       "19733  25.414000  43.036000  26.890000  41.290000  24.700000  ...  23.200000   \n",
       "19734  25.264286  42.971429  26.823333  41.156667  24.700000  ...  23.200000   \n",
       "\n",
       "            RH_9      T_out  Press_mm_hg     RH_out  Windspeed  Visibility  \\\n",
       "0      45.530000   6.600000   733.500000  92.000000   7.000000   63.000000   \n",
       "1      45.560000   6.483333   733.600000  92.000000   6.666667   59.166667   \n",
       "2      45.500000   6.366667   733.700000  92.000000   6.333333   55.333333   \n",
       "3      45.400000   6.250000   733.800000  92.000000   6.000000   51.500000   \n",
       "4      45.400000   6.133333   733.900000  92.000000   5.666667   47.666667   \n",
       "5      45.290000   6.016667   734.000000  92.000000   5.333333   43.833333   \n",
       "6      45.290000   5.900000   734.100000  92.000000   5.000000   40.000000   \n",
       "7      45.290000   5.916667   734.166667  91.833333   5.166667   40.000000   \n",
       "8      45.290000   5.933333   734.233333  91.666667   5.333333   40.000000   \n",
       "9      45.290000   5.950000   734.300000  91.500000   5.500000   40.000000   \n",
       "10     45.290000   5.966667   734.366667  91.333333   5.666667   40.000000   \n",
       "11     45.290000   5.983333   734.433333  91.166667   5.833333   40.000000   \n",
       "12     45.290000   6.000000   734.500000  91.000000   6.000000   40.000000   \n",
       "13     45.326667   6.000000   734.616667  90.500000   6.000000   40.000000   \n",
       "14     45.345000   6.000000   734.733333  90.000000   6.000000   40.000000   \n",
       "15     45.326667   6.000000   734.850000  89.500000   6.000000   40.000000   \n",
       "16     45.290000   6.000000   734.966667  89.000000   6.000000   40.000000   \n",
       "17     45.290000   6.000000   735.083333  88.500000   6.000000   40.000000   \n",
       "18     45.200000   6.000000   735.200000  88.000000   6.000000   40.000000   \n",
       "19     45.200000   6.000000   735.233333  87.833333   6.000000   40.000000   \n",
       "20     45.126667   6.000000   735.266667  87.666667   6.000000   40.000000   \n",
       "21     45.126667   6.000000   735.300000  87.500000   6.000000   40.000000   \n",
       "22     45.060000   6.000000   735.333333  87.333333   6.000000   40.000000   \n",
       "23     45.000000   6.000000   735.366667  87.166667   6.000000   40.000000   \n",
       "24     44.966667   6.000000   735.400000  87.000000   6.000000   40.000000   \n",
       "25     44.900000   5.933333   735.466667  87.166667   6.000000   40.000000   \n",
       "26     44.790000   5.866667   735.533333  87.333333   6.000000   40.000000   \n",
       "27     44.790000   5.800000   735.600000  87.500000   6.000000   40.000000   \n",
       "28     44.700000   5.733333   735.666667  87.666667   6.000000   40.000000   \n",
       "29     44.700000   5.666667   735.733333  87.833333   6.000000   40.000000   \n",
       "...          ...        ...          ...        ...        ...         ...   \n",
       "19705  46.500000  21.250000   756.050000  59.833333   1.166667   23.666667   \n",
       "19706  46.500000  21.400000   756.000000  59.666667   1.333333   23.333333   \n",
       "19707  46.522500  21.550000   755.950000  59.500000   1.500000   23.000000   \n",
       "19708  46.530000  21.700000   755.900000  59.333333   1.666667   22.666667   \n",
       "19709  46.530000  21.850000   755.850000  59.166667   1.833333   22.333333   \n",
       "19710  46.530000  22.000000   755.800000  59.000000   2.000000   22.000000   \n",
       "19711  46.530000  21.966667   755.800000  59.000000   2.000000   21.833333   \n",
       "19712  46.590000  21.933333   755.800000  59.000000   2.000000   21.666667   \n",
       "19713  46.626667  21.900000   755.800000  59.000000   2.000000   21.500000   \n",
       "19714  46.700000  21.866667   755.800000  59.000000   2.000000   21.333333   \n",
       "19715  46.590000  21.833333   755.800000  59.000000   2.000000   21.166667   \n",
       "19716  46.590000  21.800000   755.800000  59.000000   2.000000   21.000000   \n",
       "19717  46.590000  21.966667   755.750000  58.333333   2.000000   21.333333   \n",
       "19718  46.590000  22.133333   755.700000  57.666667   2.000000   21.666667   \n",
       "19719  46.590000  22.300000   755.650000  57.000000   2.000000   22.000000   \n",
       "19720  46.590000  22.466667   755.600000  56.333333   2.000000   22.333333   \n",
       "19721  46.590000  22.633333   755.550000  55.666667   2.000000   22.666667   \n",
       "19722  46.590000  22.800000   755.500000  55.000000   2.000000   23.000000   \n",
       "19723  46.590000  22.833333   755.450000  55.000000   2.166667   22.833333   \n",
       "19724  46.621429  22.866667   755.400000  55.000000   2.333333   22.666667   \n",
       "19725  46.700000  22.900000   755.350000  55.000000   2.500000   22.500000   \n",
       "19726  46.652857  22.933333   755.300000  55.000000   2.666667   22.333333   \n",
       "19727  46.718000  22.966667   755.250000  55.000000   2.833333   22.166667   \n",
       "19728  46.751429  23.000000   755.200000  55.000000   3.000000   22.000000   \n",
       "19729  46.745000  22.866667   755.200000  55.333333   3.166667   22.833333   \n",
       "19730  46.790000  22.733333   755.200000  55.666667   3.333333   23.666667   \n",
       "19731  46.790000  22.600000   755.200000  56.000000   3.500000   24.500000   \n",
       "19732  46.790000  22.466667   755.200000  56.333333   3.666667   25.333333   \n",
       "19733  46.817500  22.333333   755.200000  56.666667   3.833333   26.166667   \n",
       "19734  46.845000  22.200000   755.200000  57.000000   4.000000   27.000000   \n",
       "\n",
       "       Tdewpoint        rv1        rv2  \n",
       "0       5.300000  13.275433  13.275433  \n",
       "1       5.200000  18.606195  18.606195  \n",
       "2       5.100000  28.642668  28.642668  \n",
       "3       5.000000  45.410389  45.410389  \n",
       "4       4.900000  10.084097  10.084097  \n",
       "5       4.800000  44.919484  44.919484  \n",
       "6       4.700000  47.233763  47.233763  \n",
       "7       4.683333  33.039890  33.039890  \n",
       "8       4.666667  31.455702  31.455702  \n",
       "9       4.650000   3.089314   3.089314  \n",
       "10      4.633333  10.298729  10.298729  \n",
       "11      4.616667   8.827838   8.827838  \n",
       "12      4.600000  34.351142  34.351142  \n",
       "13      4.516667  19.205186  19.205186  \n",
       "14      4.433333  38.492071  38.492071  \n",
       "15      4.350000  24.884962  24.884962  \n",
       "16      4.266667  35.880925  35.880925  \n",
       "17      4.183333  49.595305  49.595305  \n",
       "18      4.100000  19.001759  19.001759  \n",
       "19      4.066667  38.872261  38.872261  \n",
       "20      4.033333  46.735262  46.735262  \n",
       "21      4.000000  10.607126  10.607126  \n",
       "22      3.966667  32.583688  32.583688  \n",
       "23      3.933333   6.277755   6.277755  \n",
       "24      3.900000  13.361033  13.361033  \n",
       "25      3.866667  19.305705  19.305705  \n",
       "26      3.833333   0.669517   0.669517  \n",
       "27      3.800000  19.119398  19.119398  \n",
       "28      3.766667  43.484542  43.484542  \n",
       "29      3.733333  17.017450  17.017450  \n",
       "...          ...        ...        ...  \n",
       "19705  13.100000  32.420348  32.420348  \n",
       "19706  13.200000  49.189027  49.189027  \n",
       "19707  13.300000  15.081162  15.081162  \n",
       "19708  13.400000  45.226866  45.226866  \n",
       "19709  13.500000   5.773431   5.773431  \n",
       "19710  13.600000  41.515044  41.515044  \n",
       "19711  13.550000  19.540642  19.540642  \n",
       "19712  13.500000  16.977597  16.977597  \n",
       "19713  13.450000   8.991420   8.991420  \n",
       "19714  13.400000  40.409885  40.409885  \n",
       "19715  13.350000  37.889086  37.889086  \n",
       "19716  13.300000  17.123315  17.123315  \n",
       "19717  13.283333  24.058432  24.058432  \n",
       "19718  13.266667   9.538671   9.538671  \n",
       "19719  13.250000  30.020685  30.020685  \n",
       "19720  13.233333  23.851737  23.851737  \n",
       "19721  13.216667  47.981309  47.981309  \n",
       "19722  13.200000  18.215602  18.215602  \n",
       "19723  13.233333  38.751594  38.751594  \n",
       "19724  13.266667  32.306224  32.306224  \n",
       "19725  13.300000  23.009520  23.009520  \n",
       "19726  13.333333  25.296732  25.296732  \n",
       "19727  13.366667   1.796395   1.796395  \n",
       "19728  13.400000  18.248201  18.248201  \n",
       "19729  13.366667  16.966162  16.966162  \n",
       "19730  13.333333  43.096812  43.096812  \n",
       "19731  13.300000  49.282940  49.282940  \n",
       "19732  13.266667  29.199117  29.199117  \n",
       "19733  13.233333   6.322784   6.322784  \n",
       "19734  13.200000  34.118851  34.118851  \n",
       "\n",
       "[19735 rows x 29 columns]>"
      ]
     },
     "execution_count": 23,
     "metadata": {},
     "output_type": "execute_result"
    }
   ],
   "source": [
    "energy_data.describe\n"
   ]
  },
  {
   "cell_type": "code",
   "execution_count": 24,
   "metadata": {},
   "outputs": [
    {
     "data": {
      "text/html": [
       "<div>\n",
       "<style scoped>\n",
       "    .dataframe tbody tr th:only-of-type {\n",
       "        vertical-align: middle;\n",
       "    }\n",
       "\n",
       "    .dataframe tbody tr th {\n",
       "        vertical-align: top;\n",
       "    }\n",
       "\n",
       "    .dataframe thead th {\n",
       "        text-align: right;\n",
       "    }\n",
       "</style>\n",
       "<table border=\"1\" class=\"dataframe\">\n",
       "  <thead>\n",
       "    <tr style=\"text-align: right;\">\n",
       "      <th></th>\n",
       "      <th>T1</th>\n",
       "      <th>T2</th>\n",
       "      <th>T3</th>\n",
       "      <th>T4</th>\n",
       "      <th>T5</th>\n",
       "      <th>T6</th>\n",
       "      <th>T7</th>\n",
       "      <th>T8</th>\n",
       "      <th>T9</th>\n",
       "    </tr>\n",
       "  </thead>\n",
       "  <tbody>\n",
       "    <tr>\n",
       "      <th>count</th>\n",
       "      <td>19735.000000</td>\n",
       "      <td>19735.000000</td>\n",
       "      <td>19735.000000</td>\n",
       "      <td>19735.000000</td>\n",
       "      <td>19735.000000</td>\n",
       "      <td>19735.000000</td>\n",
       "      <td>19735.000000</td>\n",
       "      <td>19735.000000</td>\n",
       "      <td>19735.000000</td>\n",
       "    </tr>\n",
       "    <tr>\n",
       "      <th>mean</th>\n",
       "      <td>21.686571</td>\n",
       "      <td>20.341219</td>\n",
       "      <td>22.267611</td>\n",
       "      <td>20.855335</td>\n",
       "      <td>19.592106</td>\n",
       "      <td>7.910939</td>\n",
       "      <td>20.267106</td>\n",
       "      <td>22.029107</td>\n",
       "      <td>19.485828</td>\n",
       "    </tr>\n",
       "    <tr>\n",
       "      <th>std</th>\n",
       "      <td>1.606066</td>\n",
       "      <td>2.192974</td>\n",
       "      <td>2.006111</td>\n",
       "      <td>2.042884</td>\n",
       "      <td>1.844623</td>\n",
       "      <td>6.090347</td>\n",
       "      <td>2.109993</td>\n",
       "      <td>1.956162</td>\n",
       "      <td>2.014712</td>\n",
       "    </tr>\n",
       "    <tr>\n",
       "      <th>min</th>\n",
       "      <td>16.790000</td>\n",
       "      <td>16.100000</td>\n",
       "      <td>17.200000</td>\n",
       "      <td>15.100000</td>\n",
       "      <td>15.330000</td>\n",
       "      <td>-6.065000</td>\n",
       "      <td>15.390000</td>\n",
       "      <td>16.306667</td>\n",
       "      <td>14.890000</td>\n",
       "    </tr>\n",
       "    <tr>\n",
       "      <th>25%</th>\n",
       "      <td>20.760000</td>\n",
       "      <td>18.790000</td>\n",
       "      <td>20.790000</td>\n",
       "      <td>19.530000</td>\n",
       "      <td>18.277500</td>\n",
       "      <td>3.626667</td>\n",
       "      <td>18.700000</td>\n",
       "      <td>20.790000</td>\n",
       "      <td>18.000000</td>\n",
       "    </tr>\n",
       "    <tr>\n",
       "      <th>50%</th>\n",
       "      <td>21.600000</td>\n",
       "      <td>20.000000</td>\n",
       "      <td>22.100000</td>\n",
       "      <td>20.666667</td>\n",
       "      <td>19.390000</td>\n",
       "      <td>7.300000</td>\n",
       "      <td>20.033333</td>\n",
       "      <td>22.100000</td>\n",
       "      <td>19.390000</td>\n",
       "    </tr>\n",
       "    <tr>\n",
       "      <th>75%</th>\n",
       "      <td>22.600000</td>\n",
       "      <td>21.500000</td>\n",
       "      <td>23.290000</td>\n",
       "      <td>22.100000</td>\n",
       "      <td>20.619643</td>\n",
       "      <td>11.256000</td>\n",
       "      <td>21.600000</td>\n",
       "      <td>23.390000</td>\n",
       "      <td>20.600000</td>\n",
       "    </tr>\n",
       "    <tr>\n",
       "      <th>max</th>\n",
       "      <td>26.260000</td>\n",
       "      <td>29.856667</td>\n",
       "      <td>29.236000</td>\n",
       "      <td>26.200000</td>\n",
       "      <td>25.795000</td>\n",
       "      <td>28.290000</td>\n",
       "      <td>26.000000</td>\n",
       "      <td>27.230000</td>\n",
       "      <td>24.500000</td>\n",
       "    </tr>\n",
       "  </tbody>\n",
       "</table>\n",
       "</div>"
      ],
      "text/plain": [
       "                 T1            T2            T3            T4            T5  \\\n",
       "count  19735.000000  19735.000000  19735.000000  19735.000000  19735.000000   \n",
       "mean      21.686571     20.341219     22.267611     20.855335     19.592106   \n",
       "std        1.606066      2.192974      2.006111      2.042884      1.844623   \n",
       "min       16.790000     16.100000     17.200000     15.100000     15.330000   \n",
       "25%       20.760000     18.790000     20.790000     19.530000     18.277500   \n",
       "50%       21.600000     20.000000     22.100000     20.666667     19.390000   \n",
       "75%       22.600000     21.500000     23.290000     22.100000     20.619643   \n",
       "max       26.260000     29.856667     29.236000     26.200000     25.795000   \n",
       "\n",
       "                 T6            T7            T8            T9  \n",
       "count  19735.000000  19735.000000  19735.000000  19735.000000  \n",
       "mean       7.910939     20.267106     22.029107     19.485828  \n",
       "std        6.090347      2.109993      1.956162      2.014712  \n",
       "min       -6.065000     15.390000     16.306667     14.890000  \n",
       "25%        3.626667     18.700000     20.790000     18.000000  \n",
       "50%        7.300000     20.033333     22.100000     19.390000  \n",
       "75%       11.256000     21.600000     23.390000     20.600000  \n",
       "max       28.290000     26.000000     27.230000     24.500000  "
      ]
     },
     "execution_count": 24,
     "metadata": {},
     "output_type": "execute_result"
    }
   ],
   "source": [
    "new_energy = energy_data.filter(['T1','T2','T3','T4','T5','T6','T7','T8','T9'], axis=1)\n",
    "new_energy.describe()"
   ]
  },
  {
   "cell_type": "code",
   "execution_count": 26,
   "metadata": {},
   "outputs": [
    {
     "data": {
      "text/plain": [
       "(array([1.6238e+04, 1.7230e+03, 8.3900e+02, 4.9300e+02, 2.1200e+02,\n",
       "        1.3000e+02, 6.9000e+01, 2.4000e+01, 5.0000e+00, 2.0000e+00]),\n",
       " array([  10.,  117.,  224.,  331.,  438.,  545.,  652.,  759.,  866.,\n",
       "         973., 1080.]),\n",
       " <a list of 10 Patch objects>)"
      ]
     },
     "execution_count": 26,
     "metadata": {},
     "output_type": "execute_result"
    },
    {
     "data": {
      "image/png": "[encoded data removed]",
      "text/plain": [
       "<Figure size 432x288 with 1 Axes>"
      ]
     },
     "metadata": {
      "needs_background": "light"
     },
     "output_type": "display_data"
    }
   ],
   "source": [
    "plt.hist(energy_data.Appliances, bins = 10)"
   ]
  },
  {
   "cell_type": "code",
   "execution_count": 27,
   "metadata": {},
   "outputs": [
    {
     "data": {
      "text/plain": [
       "<matplotlib.axes._subplots.AxesSubplot at 0x24c10e3b518>"
      ]
     },
     "execution_count": 27,
     "metadata": {},
     "output_type": "execute_result"
    },
    {
     "data": {
      "image/png": "[encoded data removed]",
      "text/plain": [
       "<Figure size 432x288 with 1 Axes>"
      ]
     },
     "metadata": {
      "needs_background": "light"
     },
     "output_type": "display_data"
    }
   ],
   "source": [
    "sb.distplot(energy_data['Appliances'], hist=True, kde=True, \n",
    "             bins= 50, color = 'green', \n",
    "             hist_kws={'edgecolor':'black'},\n",
    "             kde_kws={'linewidth': 2})"
   ]
  },
  {
   "cell_type": "code",
   "execution_count": 28,
   "metadata": {},
   "outputs": [
    {
     "data": {
      "image/png": "[encoded data removed]",
      "text/plain": [
       "<Figure size 864x504 with 2 Axes>"
      ]
     },
     "metadata": {
      "needs_background": "light"
     },
     "output_type": "display_data"
    }
   ],
   "source": [
    "# Correlation Matrix\n",
    "\n",
    "import seaborn as sb\n",
    "corr = energy_data.corr()\n",
    "plt.figure(figsize=(12,7))\n",
    "ax = sb.heatmap(\n",
    "    corr, \n",
    "    vmin=-1, vmax=1, center=0,\n",
    "    cmap=sb.diverging_palette(20, 220, n=200),\n",
    "    square=True,\n",
    ")\n",
    "ax.set_xticklabels(\n",
    "    ax.get_xticklabels(),\n",
    "    rotation=45,\n",
    "    horizontalalignment='right'\n",
    ");"
   ]
  },
  {
   "cell_type": "code",
   "execution_count": 473,
   "metadata": {},
   "outputs": [
    {
     "name": "stdout",
     "output_type": "stream",
     "text": [
      "                                 OLS Regression Results                                \n",
      "=======================================================================================\n",
      "Dep. Variable:                      y   R-squared (uncentered):                   0.565\n",
      "Model:                            OLS   Adj. R-squared (uncentered):              0.564\n",
      "Method:                 Least Squares   F-statistic:                              1504.\n",
      "Date:                Sun, 15 Sep 2019   Prob (F-statistic):                        0.00\n",
      "Time:                        17:10:45   Log-Likelihood:                          15895.\n",
      "No. Observations:               19735   AIC:                                 -3.176e+04\n",
      "Df Residuals:                   19718   BIC:                                 -3.162e+04\n",
      "Df Model:                          17                                                  \n",
      "Covariance Type:            nonrobust                                                  \n",
      "==============================================================================\n",
      "                 coef    std err          t      P>|t|      [0.025      0.975]\n",
      "------------------------------------------------------------------------------\n",
      "x1             9.0447      1.405      6.436      0.000       6.290      11.799\n",
      "x2            15.4274      0.601     25.687      0.000      14.250      16.605\n",
      "x3           -14.1355      1.334    -10.597      0.000     -16.750     -11.521\n",
      "x4           -12.4267      0.666    -18.670      0.000     -13.731     -11.122\n",
      "x5            15.2788      0.870     17.561      0.000      13.573      16.984\n",
      "x6             1.9727      0.559      3.532      0.000       0.878       3.068\n",
      "x7            -2.8617      0.849     -3.372      0.001      -4.525      -1.198\n",
      "x8             0.3542      0.547      0.648      0.517      -0.718       1.426\n",
      "x9            -5.9482      0.966     -6.158      0.000      -7.841      -4.055\n",
      "x10            0.3784      0.076      4.956      0.000       0.229       0.528\n",
      "x11           -1.4445      0.802     -1.800      0.072      -3.017       0.128\n",
      "x12           -5.1305      0.308    -16.662      0.000      -5.734      -4.527\n",
      "x13           -2.4138      1.095     -2.204      0.028      -4.561      -0.267\n",
      "x14            0.0766      0.035      2.194      0.028       0.008       0.145\n",
      "x15           -0.7029      0.236     -2.980      0.003      -1.165      -0.241\n",
      "x16            1.4851      0.288      5.158      0.000       0.921       2.049\n",
      "x17            2.8400      1.162      2.444      0.015       0.562       5.118\n",
      "==============================================================================\n",
      "Omnibus:                    11411.754   Durbin-Watson:                   0.539\n",
      "Prob(Omnibus):                  0.000   Jarque-Bera (JB):            89669.720\n",
      "Skew:                           2.764   Prob(JB):                         0.00\n",
      "Kurtosis:                      11.859   Cond. No.                     2.37e+03\n",
      "==============================================================================\n",
      "\n",
      "Warnings:\n",
      "[1] Standard Errors assume that the covariance matrix of the errors is correctly specified.\n",
      "[2] The condition number is large, 2.37e+03. This might indicate that there are\n",
      "strong multicollinearity or other numerical problems.\n"
     ]
    }
   ],
   "source": [
    "'''\n",
    "from sklearn import datasets, linear_model\n",
    "from sklearn.linear_model import LinearRegression\n",
    "import statsmodels.api as sm\n",
    "from scipy import stats\n",
    "\n",
    "# Train the model using the training sets\n",
    "# regr.fit(x, y)\n",
    "# The coefficients\n",
    "# print('Coefficients: \\n', regr.coef_)\n",
    "# print(regr.summary())\n",
    "X2 = sm.add_constant(x)\n",
    "X2\n",
    "est = sm.OLS(y, x)\n",
    "est2 = est.fit()\n",
    "print(est2.summary())\n",
    "'''"
   ]
  },
  {
   "cell_type": "code",
   "execution_count": 29,
   "metadata": {},
   "outputs": [],
   "source": [
    "# Linear Regression Model I\n",
    "\n",
    "energy_data1 = energy_data.drop(columns=['date','lights', 'T6','RH_6','T8','RH_8','T9','RH_9','rv1', 'rv2', 'Visibility'])\n",
    "energy_data1.shape\n",
    "energy_data1 = energy_data1.round(3)"
   ]
  },
  {
   "cell_type": "code",
   "execution_count": 30,
   "metadata": {},
   "outputs": [
    {
     "data": {
      "image/png": "[encoded data removed]",
      "text/plain": [
       "<Figure size 864x504 with 2 Axes>"
      ]
     },
     "metadata": {
      "needs_background": "light"
     },
     "output_type": "display_data"
    }
   ],
   "source": [
    "# Correlation\n",
    "\n",
    "\n",
    "corr = energy_data1.corr()\n",
    "plt.figure(figsize=(12,7))\n",
    "ax = sb.heatmap(\n",
    "    corr, \n",
    "    vmin=-1, vmax=1, center=0,\n",
    "    cmap=sb.diverging_palette(20, 220, n=200),\n",
    "    square=True,\n",
    ")\n",
    "ax.set_xticklabels(\n",
    "    ax.get_xticklabels(),\n",
    "    rotation=45,\n",
    "    horizontalalignment='right'\n",
    ");"
   ]
  },
  {
   "cell_type": "code",
   "execution_count": 31,
   "metadata": {},
   "outputs": [],
   "source": [
    "energy_data1= preprocessing.normalize(energy_data1)"
   ]
  },
  {
   "cell_type": "code",
   "execution_count": 32,
   "metadata": {},
   "outputs": [],
   "source": [
    "y = energy_data1[:,0]\n",
    "y = np.transpose(np.array([(y)]))\n",
    "x = energy_data1[:,1:18]"
   ]
  },
  {
   "cell_type": "code",
   "execution_count": 33,
   "metadata": {},
   "outputs": [
    {
     "data": {
      "text/plain": [
       "(19735, 1)"
      ]
     },
     "execution_count": 33,
     "metadata": {},
     "output_type": "execute_result"
    }
   ],
   "source": [
    "y.shape"
   ]
  },
  {
   "cell_type": "code",
   "execution_count": 34,
   "metadata": {},
   "outputs": [
    {
     "name": "stdout",
     "output_type": "stream",
     "text": [
      "(13814, 17) (13814, 1)\n",
      "(5921, 17) (5921, 1)\n"
     ]
    }
   ],
   "source": [
    "# create training and testing vars\n",
    "random.seed(144)\n",
    "\n",
    "x_train, x_test, y_train, y_test = train_test_split(x, y, test_size=0.30)\n",
    "print (x_train.shape, y_train.shape)\n",
    "print (x_test.shape, y_test.shape)\n"
   ]
  },
  {
   "cell_type": "code",
   "execution_count": 35,
   "metadata": {},
   "outputs": [],
   "source": [
    "#Assigning X0 = 1 to training and test dataset for matrix multiplication\n",
    "x_train = np.c_[np.ones((len(x_train),1)),x_train]\n",
    "x_test = np.c_[np.ones((len(x_test),1)),x_test]\n"
   ]
  },
  {
   "cell_type": "code",
   "execution_count": 36,
   "metadata": {},
   "outputs": [
    {
     "data": {
      "text/plain": [
       "(5921, 18)"
      ]
     },
     "execution_count": 36,
     "metadata": {},
     "output_type": "execute_result"
    }
   ],
   "source": [
    "x_test.shape"
   ]
  },
  {
   "cell_type": "code",
   "execution_count": 37,
   "metadata": {},
   "outputs": [],
   "source": [
    "#Cost Function and Gradient descent algorithm\n",
    "\n",
    "def cost_fn(theta,x,y):\n",
    "    m = len(y)\n",
    "    predicted_value = np.dot(x,theta)\n",
    "    cost = (1/(2*m))* np.sum(np.square(predicted_value-y))\n",
    "    return cost\n",
    "\n",
    "def gradient_descent(x,y,theta,lrng_rate,itrs):\n",
    "    m = len(y)\n",
    "    cost_log = np.zeros(itrs)\n",
    "    theta_log = np.zeros((itrs,(x.shape[1])))\n",
    "    for i in range(itrs):\n",
    "        \n",
    "        prediction = np.dot(x,theta)\n",
    "        \n",
    "        theta = theta - lrng_rate* (1/m)* (x.T.dot((prediction - y)))\n",
    "#         print(theta)\n",
    "        theta_log[i,:] = theta.T\n",
    "        cost_log[i] = cost_fn(theta,x,y)\n",
    "    return theta, cost_log, theta_log\n",
    "    "
   ]
  },
  {
   "cell_type": "code",
   "execution_count": 38,
   "metadata": {},
   "outputs": [
    {
     "data": {
      "image/png": "[encoded data removed]",
      "text/plain": [
       "<Figure size 864x504 with 1 Axes>"
      ]
     },
     "metadata": {
      "needs_background": "light"
     },
     "output_type": "display_data"
    }
   ],
   "source": [
    "lrng_rate = 0.001\n",
    "itrs = 2000\n",
    "#theta = np.random.randn(x_train.shape[1],1)\n",
    "theta = np.zeros(((x_train.shape)[1],1))\n",
    "#print(theta)\n",
    "theta,cost_log,theta_log = gradient_descent(x_train,y_train,theta,lrng_rate,itrs)\n",
    "\n",
    "fig,ax = plt.subplots(figsize=(12,7))\n",
    "\n",
    "ax.set_ylabel('J(theta)')\n",
    "ax.set_xlabel('Iterations')\n",
    "_=ax.plot(range(itrs),cost_log,'r.')"
   ]
  },
  {
   "cell_type": "code",
   "execution_count": 39,
   "metadata": {},
   "outputs": [
    {
     "name": "stdout",
     "output_type": "stream",
     "text": [
      "1368\n",
      "0.005936773976471936\n"
     ]
    }
   ],
   "source": [
    "threshold = 0.0000001\n",
    "def converge(x, y, theta, lrng_rate, threshold, itrs):\n",
    "  converged = False\n",
    "  j = 0\n",
    "  m=len(y)  \n",
    "  cost_present = cost_fn(theta,x,y)\n",
    "  while (converged == False):\n",
    "        prediction = np.dot(x,theta)\n",
    "        theta = theta-(1/m)*lrng_rate*(x.T.dot(prediction-y))\n",
    "        cost_new = cost_fn(theta,x_test,y_test)\n",
    "        \n",
    "        if(abs(cost_new - cost_present)  <= threshold or j == itrs) :\n",
    "              coverged = True\n",
    "              break\n",
    "        j+=1\n",
    "        cost_present = cost_new\n",
    "  return j,cost_new,theta\n",
    "#theta = np.random.randn(18,1)\n",
    "theta = np.zeros(((x.shape)[1]+1,1))\n",
    "iterations,cost,theta_optimal = converge(x_train, y_train, theta, lrng_rate, threshold, itrs)\n",
    "print(iterations)\n",
    "print(cost)"
   ]
  },
  {
   "cell_type": "code",
   "execution_count": 40,
   "metadata": {},
   "outputs": [
    {
     "name": "stdout",
     "output_type": "stream",
     "text": [
      "[[0.05927231 0.00152671 0.00285919 0.00146706 0.00275625 0.00158202\n",
      "  0.00273824 0.0014677  0.00272077 0.00137091 0.00354877 0.00142058\n",
      "  0.00239527 0.00062959 0.05228705 0.00505771 0.00032593 0.00028006]]\n"
     ]
    }
   ],
   "source": [
    "print(theta_optimal.T)"
   ]
  },
  {
   "cell_type": "code",
   "execution_count": 41,
   "metadata": {},
   "outputs": [
    {
     "data": {
      "text/plain": [
       "180.891881821399"
      ]
     },
     "execution_count": 41,
     "metadata": {},
     "output_type": "execute_result"
    }
   ],
   "source": [
    "predicted_value = np.dot(x_train,theta_optimal)\n",
    "MSE_train = np.sum(np.square(predicted_value-y_train))\n",
    "MSE_train"
   ]
  },
  {
   "cell_type": "code",
   "execution_count": 42,
   "metadata": {},
   "outputs": [
    {
     "data": {
      "text/plain": [
       "70.30327742938066"
      ]
     },
     "execution_count": 42,
     "metadata": {},
     "output_type": "execute_result"
    }
   ],
   "source": [
    "predicted_value_test = np.dot(x_test,theta_optimal)\n",
    "MSE_test = np.sum(np.square(predicted_value_test-y_test))\n",
    "MSE_test"
   ]
  },
  {
   "cell_type": "code",
   "execution_count": 43,
   "metadata": {},
   "outputs": [],
   "source": [
    "# Linear Regression Model II\n",
    "# Picking ten features randomly and retraining the models only on these ten features\n",
    "energy_data_random = energy_data.drop(columns=['date','lights', 'RH_1','RH_2','RH_3','RH_4','RH_5','T6','RH_6','RH_7','RH_8','T9','RH_9','RH_out','Windspeed','rv1', 'rv2', 'Visibility'])\n",
    "energy_data_random = energy_data_random.round(3)"
   ]
  },
  {
   "cell_type": "code",
   "execution_count": 44,
   "metadata": {},
   "outputs": [
    {
     "data": {
      "text/plain": [
       "(19735, 11)"
      ]
     },
     "execution_count": 44,
     "metadata": {},
     "output_type": "execute_result"
    }
   ],
   "source": [
    "energy_data_random.shape"
   ]
  },
  {
   "cell_type": "code",
   "execution_count": 45,
   "metadata": {},
   "outputs": [],
   "source": [
    "energy_data_random = preprocessing.normalize(energy_data_random)"
   ]
  },
  {
   "cell_type": "code",
   "execution_count": 46,
   "metadata": {},
   "outputs": [],
   "source": [
    "y_random = energy_data_random[:,0]\n",
    "y_random = np.transpose(np.array([(y_random)]))\n",
    "x_random = energy_data_random[:,1:11]"
   ]
  },
  {
   "cell_type": "code",
   "execution_count": 47,
   "metadata": {},
   "outputs": [
    {
     "name": "stdout",
     "output_type": "stream",
     "text": [
      "(13814, 10) (13814, 1)\n",
      "(5921, 10) (5921, 1)\n"
     ]
    }
   ],
   "source": [
    "#Splitting into training and test dataset\n",
    "\n",
    "random.seed(144)\n",
    "\n",
    "x_random_train, x_random_test, y_random_train, y_random_test = train_test_split(x_random, y_random, test_size=0.30)\n",
    "print (x_random_train.shape, y_random_train.shape)\n",
    "print (x_random_test.shape, y_random_test.shape)"
   ]
  },
  {
   "cell_type": "code",
   "execution_count": 48,
   "metadata": {},
   "outputs": [],
   "source": [
    "x_random_train = np.c_[np.ones((len(x_random_train),1)),x_random_train]\n",
    "x_random_test = np.c_[np.ones((len(x_random_test),1)),x_random_test]"
   ]
  },
  {
   "cell_type": "code",
   "execution_count": 49,
   "metadata": {},
   "outputs": [
    {
     "data": {
      "image/png": "[encoded data removed]",
      "text/plain": [
       "<Figure size 864x504 with 1 Axes>"
      ]
     },
     "metadata": {
      "needs_background": "light"
     },
     "output_type": "display_data"
    }
   ],
   "source": [
    "lrng_rate = 0.001\n",
    "itrs = 2000\n",
    "#theta = np.random.randn(x_random_train.shape[1],1)\n",
    "theta = np.zeros(((x_random_train.shape)[1],1))\n",
    "#print(theta)\n",
    "theta,cost_log,theta_log = gradient_descent(x_random_train,y_random_train,theta,lrng_rate,itrs)\n",
    "\n",
    "fig,ax = plt.subplots(figsize=(12,7))\n",
    "\n",
    "ax.set_ylabel('J(theta)')\n",
    "ax.set_xlabel('Iterations')\n",
    "_=ax.plot(range(itrs),cost_log,'g.')\n"
   ]
  },
  {
   "cell_type": "code",
   "execution_count": 66,
   "metadata": {},
   "outputs": [
    {
     "name": "stdout",
     "output_type": "stream",
     "text": [
      "1474\n",
      "0.006528343095764709\n"
     ]
    }
   ],
   "source": [
    "threshold = 0.0000001\n",
    "def converge(x, y, theta, lrng_rate, threshold, itrs):\n",
    "  converged = False\n",
    "  j = 0\n",
    "  m=len(y)  \n",
    "  cost_present = cost_fn(theta,x,y)\n",
    "  while (converged == False):\n",
    "        prediction = np.dot(x,theta)\n",
    "        theta = theta-(1/m)*lrng_rate*(x.T.dot(prediction-y))\n",
    "        cost_new = cost_fn(theta,x_random_test,y_random_test)\n",
    "        \n",
    "        if(abs(cost_new - cost_present)  <= threshold or j == itrs) :\n",
    "              coverged = True\n",
    "              break\n",
    "        j+=1\n",
    "        cost_present = cost_new\n",
    "  return j,cost_new,theta\n",
    "#theta = np.random.randn(18,1)\n",
    "theta = np.zeros(((x_random_train.shape)[1],1))\n",
    "iterations,cost,theta_optimal_random = converge(x_random_train, y_random_train, theta, lrng_rate, threshold, itrs)\n",
    "print(iterations)\n",
    "print(cost)"
   ]
  },
  {
   "cell_type": "code",
   "execution_count": 67,
   "metadata": {},
   "outputs": [
    {
     "name": "stdout",
     "output_type": "stream",
     "text": [
      "[[0.06052109 0.00157195 0.00151187 0.00162859 0.00151005 0.00141244\n",
      "  0.00146009 0.00159362 0.00064842 0.05387615 0.00028904]]\n"
     ]
    }
   ],
   "source": [
    "print(theta_optimal_random.T)"
   ]
  },
  {
   "cell_type": "code",
   "execution_count": 52,
   "metadata": {},
   "outputs": [
    {
     "data": {
      "text/plain": [
       "178.70157624361923"
      ]
     },
     "execution_count": 52,
     "metadata": {},
     "output_type": "execute_result"
    }
   ],
   "source": [
    "predicted_value_random = np.dot(x_random_train,theta_optimal)\n",
    "MSE_train_random = np.sum(np.square(predicted_value_random-y_random_train))\n",
    "MSE_train_random"
   ]
  },
  {
   "cell_type": "code",
   "execution_count": 53,
   "metadata": {},
   "outputs": [
    {
     "data": {
      "text/plain": [
       "77.30863894004568"
      ]
     },
     "execution_count": 53,
     "metadata": {},
     "output_type": "execute_result"
    }
   ],
   "source": [
    "predicted_value_test_random = np.dot(x_random_test,theta_optimal)\n",
    "MSE_test_random = np.sum(np.square(predicted_value_test_random-y_random_test))\n",
    "MSE_test_random"
   ]
  },
  {
   "cell_type": "code",
   "execution_count": 54,
   "metadata": {},
   "outputs": [
    {
     "data": {
      "text/plain": [
       "<bound method NDFrame.describe of        Appliances      T1    RH_1      T2    RH_2      T3    RH_3      T5  \\\n",
       "0              60  19.890  47.597  19.200  44.790  19.790  44.730  17.167   \n",
       "1              60  19.890  46.693  19.200  44.722  19.790  44.790  17.167   \n",
       "2              50  19.890  46.300  19.200  44.627  19.790  44.933  17.167   \n",
       "3              50  19.890  46.067  19.200  44.590  19.790  45.000  17.167   \n",
       "4              60  19.890  46.333  19.200  44.530  19.790  45.000  17.200   \n",
       "5              50  19.890  46.027  19.200  44.500  19.790  44.933  17.133   \n",
       "6              60  19.890  45.767  19.200  44.500  19.790  44.900  17.100   \n",
       "7              60  19.857  45.560  19.200  44.500  19.730  44.900  17.100   \n",
       "8              60  19.790  45.598  19.200  44.433  19.730  44.790  17.167   \n",
       "9              70  19.857  46.090  19.230  44.400  19.790  44.863  17.100   \n",
       "10            230  19.927  45.863  19.357  44.400  19.790  44.900  17.100   \n",
       "11            580  20.067  46.397  19.427  44.400  19.790  44.827  17.100   \n",
       "12            430  20.133  48.000  19.567  44.400  19.890  44.900  17.100   \n",
       "13            250  20.260  52.727  19.730  45.100  19.890  45.493  17.100   \n",
       "14            100  20.427  55.893  19.857  45.833  20.033  47.527  17.100   \n",
       "15            100  20.567  53.893  20.033  46.757  20.100  48.467  17.150   \n",
       "16             90  20.730  52.660  20.167  47.223  20.200  48.530  17.167   \n",
       "17             70  20.857  53.660  20.200  47.057  20.200  48.448  17.200   \n",
       "18             80  20.890  51.193  20.200  46.330  20.200  48.193  17.200   \n",
       "19            140  20.890  49.800  20.200  46.027  20.167  47.633  17.593   \n",
       "20            120  20.890  48.433  20.200  45.722  20.167  47.300  18.067   \n",
       "21            190  20.963  47.633  20.260  45.530  20.200  47.027  17.667   \n",
       "22            110  21.033  47.063  20.290  45.223  20.260  46.827  17.600   \n",
       "23            110  21.100  46.597  20.357  44.963  20.290  46.633  17.567   \n",
       "24            110  21.133  46.060  20.427  44.760  20.290  46.433  17.760   \n",
       "25            110  21.200  45.800  20.500  44.760  20.390  46.223  18.357   \n",
       "26            100  21.290  45.900  20.533  45.090  20.390  46.090  18.357   \n",
       "27            100  21.357  45.827  20.667  45.163  20.390  46.090  18.600   \n",
       "28            100  21.390  45.690  20.700  45.060  20.390  46.090  18.667   \n",
       "29            100  21.500  45.333  20.700  44.933  20.390  46.060  18.823   \n",
       "...           ...     ...     ...     ...     ...     ...     ...     ...   \n",
       "19705         280  25.033  48.363  26.529  40.596  28.497  41.900  22.760   \n",
       "19706         240  25.167  48.157  26.600  40.940  28.290  41.967  22.790   \n",
       "19707         250  25.323  47.930  26.600  41.013  28.200  42.090  22.790   \n",
       "19708         220  25.390  47.657  26.600  41.036  28.200  42.030  22.790   \n",
       "19709         230  25.500  47.133  26.600  41.000  28.200  41.797  22.857   \n",
       "19710         190  25.500  47.060  26.540  41.000  28.200  41.530  22.890   \n",
       "19711         160  25.600  46.990  26.512  41.204  28.200  41.590  22.890   \n",
       "19712          80  25.600  46.730  26.437  41.384  28.427  41.430  22.890   \n",
       "19713          60  25.567  46.633  26.370  41.378  28.567  41.157  22.890   \n",
       "19714          60  25.500  46.360  26.319  41.264  28.567  40.663  22.890   \n",
       "19715          60  25.500  46.060  26.350  41.000  28.427  40.590  22.890   \n",
       "19716          60  25.500  45.933  26.277  41.000  28.357  40.560  22.945   \n",
       "19717          70  25.500  45.760  26.200  41.000  28.290  40.433  23.000   \n",
       "19718          80  25.500  45.627  26.171  41.000  28.260  40.260  23.000   \n",
       "19719          80  25.500  45.590  26.100  41.000  28.200  40.127  23.033   \n",
       "19720          70  25.500  45.522  26.100  41.051  28.200  40.200  23.033   \n",
       "19721         100  25.500  45.633  26.080  41.196  28.133  40.260  23.033   \n",
       "19722         100  25.500  45.730  26.000  41.429  28.100  40.433  23.100   \n",
       "19723          90  25.500  45.790  26.000  41.590  28.100  40.560  23.100   \n",
       "19724         100  25.500  45.933  26.000  41.653  28.000  40.700  23.100   \n",
       "19725         220  25.427  46.060  26.000  41.700  28.000  40.760  23.200   \n",
       "19726         180  25.500  46.530  26.000  41.726  27.857  40.500  23.200   \n",
       "19727         120  25.500  47.457  26.000  42.320  27.663  40.693  23.200   \n",
       "19728         110  25.600  47.193  25.969  42.529  27.390  41.030  23.200   \n",
       "19729          90  25.533  46.860  25.978  42.534  27.323  41.090  23.200   \n",
       "19730         100  25.567  46.560  25.890  42.026  27.200  41.163  23.200   \n",
       "19731          90  25.500  46.500  25.754  42.080  27.133  41.223  23.230   \n",
       "19732         270  25.500  46.597  25.629  42.769  27.050  41.690  23.230   \n",
       "19733         420  25.500  46.990  25.414  43.036  26.890  41.290  23.200   \n",
       "19734         430  25.500  46.600  25.264  42.971  26.823  41.157  23.200   \n",
       "\n",
       "         RH_5   T_out  RH_out  \n",
       "0      55.200   6.600  92.000  \n",
       "1      55.200   6.483  92.000  \n",
       "2      55.090   6.367  92.000  \n",
       "3      55.090   6.250  92.000  \n",
       "4      55.090   6.133  92.000  \n",
       "5      55.030   6.017  92.000  \n",
       "6      54.967   5.900  92.000  \n",
       "7      54.900   5.917  91.833  \n",
       "8      55.000   5.933  91.667  \n",
       "9      55.000   5.950  91.500  \n",
       "10     55.000   5.967  91.333  \n",
       "11     55.000   5.983  91.167  \n",
       "12     55.090   6.000  91.000  \n",
       "13     55.163   6.000  90.500  \n",
       "14     55.500   6.000  90.000  \n",
       "15     56.042   6.000  89.500  \n",
       "16     56.490   6.000  89.000  \n",
       "17     56.933   6.000  88.500  \n",
       "18     57.060   6.000  88.000  \n",
       "19     70.727   6.000  87.833  \n",
       "20     79.000   6.000  87.667  \n",
       "21     79.730   6.000  87.500  \n",
       "22     79.257   6.000  87.333  \n",
       "23     78.393   6.000  87.167  \n",
       "24     82.460   6.000  87.000  \n",
       "25     82.590   5.933  87.167  \n",
       "26     70.990   5.867  87.333  \n",
       "27     62.430   5.800  87.500  \n",
       "28     59.030   5.733  87.667  \n",
       "29     56.727   5.667  87.833  \n",
       "...       ...     ...     ...  \n",
       "19705  52.900  21.250  59.833  \n",
       "19706  53.000  21.400  59.667  \n",
       "19707  53.060  21.550  59.500  \n",
       "19708  53.200  21.700  59.333  \n",
       "19709  53.260  21.850  59.167  \n",
       "19710  53.200  22.000  59.000  \n",
       "19711  53.200  21.967  59.000  \n",
       "19712  53.090  21.933  59.000  \n",
       "19713  53.030  21.900  59.000  \n",
       "19714  52.967  21.867  59.000  \n",
       "19715  52.827  21.833  59.000  \n",
       "19716  52.645  21.800  59.000  \n",
       "19717  52.560  21.967  58.333  \n",
       "19718  52.433  22.133  57.667  \n",
       "19719  52.290  22.300  57.000  \n",
       "19720  52.157  22.467  56.333  \n",
       "19721  52.127  22.633  55.667  \n",
       "19722  52.200  22.800  55.000  \n",
       "19723  52.090  22.833  55.000  \n",
       "19724  52.090  22.867  55.000  \n",
       "19725  52.060  22.900  55.000  \n",
       "19726  52.000  22.933  55.000  \n",
       "19727  52.127  22.967  55.000  \n",
       "19728  52.260  23.000  55.000  \n",
       "19729  52.327  22.867  55.333  \n",
       "19730  52.400  22.733  55.667  \n",
       "19731  52.327  22.600  56.000  \n",
       "19732  52.267  22.467  56.333  \n",
       "19733  52.200  22.333  56.667  \n",
       "19734  52.200  22.200  57.000  \n",
       "\n",
       "[19735 rows x 11 columns]>"
      ]
     },
     "execution_count": 54,
     "metadata": {},
     "output_type": "execute_result"
    }
   ],
   "source": [
    "# Linear Regression Model III\n",
    "# Picking ten features randomly that are best suited to predict and retraining the models only on these ten features\n",
    "\n",
    "energy_data_best = energy_data.drop(columns=['date','lights','T4','RH_4', 'T6','RH_6','T7','RH_7','T8','RH_8','T9','RH_9','Windspeed','rv1', 'rv2', 'Visibility','Tdewpoint','Press_mm_hg'])\n",
    "energy_data_best = energy_data_best.round(3)\n",
    "energy_data_best.describe"
   ]
  },
  {
   "cell_type": "code",
   "execution_count": 55,
   "metadata": {},
   "outputs": [],
   "source": [
    "energy_data_best= preprocessing.normalize(energy_data_best)"
   ]
  },
  {
   "cell_type": "code",
   "execution_count": 56,
   "metadata": {},
   "outputs": [],
   "source": [
    "y_best = energy_data_best[:,0]\n",
    "y_best = np.transpose(np.array([(y_best)]))\n",
    "x_best = energy_data_best[:,1:11]"
   ]
  },
  {
   "cell_type": "code",
   "execution_count": 57,
   "metadata": {},
   "outputs": [
    {
     "name": "stdout",
     "output_type": "stream",
     "text": [
      "(13814, 10) (13814, 1)\n",
      "(5921, 10) (5921, 1)\n"
     ]
    }
   ],
   "source": [
    "#Splitting into training and test dataset\n",
    "\n",
    "random.seed(144)\n",
    "\n",
    "x_best_train, x_best_test, y_best_train, y_best_test = train_test_split(x_best, y_best, test_size=0.30)\n",
    "print (x_best_train.shape, y_best_train.shape)\n",
    "print (x_best_test.shape, y_best_test.shape)"
   ]
  },
  {
   "cell_type": "code",
   "execution_count": 58,
   "metadata": {},
   "outputs": [],
   "source": [
    "x_best_train = np.c_[np.ones((len(x_best_train),1)),x_best_train]\n",
    "x_best_test = np.c_[np.ones((len(x_best_test),1)),x_best_test]"
   ]
  },
  {
   "cell_type": "code",
   "execution_count": 59,
   "metadata": {},
   "outputs": [
    {
     "data": {
      "image/png": "[encoded data removed]",
      "text/plain": [
       "<Figure size 864x504 with 1 Axes>"
      ]
     },
     "metadata": {
      "needs_background": "light"
     },
     "output_type": "display_data"
    }
   ],
   "source": [
    "lrng_rate = 0.001\n",
    "itrs = 2000\n",
    "#theta = np.random.randn(x_best_train.shape[1],1)\n",
    "theta = np.zeros(((x_best_train.shape)[1],1))\n",
    "#print(theta)\n",
    "theta,cost_log,theta_log = gradient_descent(x_best_train,y_best_train,theta,lrng_rate,itrs)\n",
    "\n",
    "fig,ax = plt.subplots(figsize=(12,7))\n",
    "\n",
    "ax.set_ylabel('J(theta)')\n",
    "ax.set_xlabel('Iterations')\n",
    "_=ax.plot(range(itrs),cost_log,'b.')"
   ]
  },
  {
   "cell_type": "code",
   "execution_count": 68,
   "metadata": {},
   "outputs": [
    {
     "name": "stdout",
     "output_type": "stream",
     "text": [
      "413\n",
      "0.0591800998229674\n"
     ]
    }
   ],
   "source": [
    "threshold = 0.0001\n",
    "\n",
    "def converge(x, y, theta, lrng_rate, threshold, itrs):\n",
    "  converged = False\n",
    "  j = 0\n",
    "  m=len(y)  \n",
    "  cost_present = cost_fn(theta,x,y)\n",
    "  while (converged == False):\n",
    "        prediction = np.dot(x,theta)\n",
    "        theta = theta-(1/m)*lrng_rate*(x.T.dot(prediction-y))\n",
    "        cost_new = cost_fn(theta,x_best_test,y_best_test)\n",
    "        \n",
    "        if(abs(cost_new - cost_present)  <= threshold or j == itrs) :\n",
    "              coverged = True\n",
    "              break\n",
    "        j+=1\n",
    "        cost_present = cost_new\n",
    "  return j,cost_new,theta\n",
    "#theta = np.random.randn(18,1)\n",
    "theta = np.zeros(((x_best_train.shape)[1],1))\n",
    "iterations,cost,theta_optimal_best = converge(x_best_train, y_best_train, theta, lrng_rate, threshold, itrs)\n",
    "print(iterations)\n",
    "print(cost)"
   ]
  },
  {
   "cell_type": "code",
   "execution_count": 69,
   "metadata": {},
   "outputs": [
    {
     "name": "stdout",
     "output_type": "stream",
     "text": [
      "[[0.15273942 0.01961279 0.03575395 0.01851912 0.0355852  0.02011822\n",
      "  0.03476334 0.01770546 0.04501185 0.00731472 0.06817113]]\n"
     ]
    }
   ],
   "source": [
    "print(theta_optimal_best.T)"
   ]
  },
  {
   "cell_type": "code",
   "execution_count": 62,
   "metadata": {},
   "outputs": [
    {
     "data": {
      "text/plain": [
       "1614.1364671587019"
      ]
     },
     "execution_count": 62,
     "metadata": {},
     "output_type": "execute_result"
    }
   ],
   "source": [
    "predicted_value_train_best = np.dot(x_best_train,theta_optimal)\n",
    "MSE_train_best = np.sum(np.square(predicted_value_train_best-y_best_train))\n",
    "MSE_train_best"
   ]
  },
  {
   "cell_type": "code",
   "execution_count": 63,
   "metadata": {},
   "outputs": [
    {
     "data": {
      "text/plain": [
       "700.81074210358"
      ]
     },
     "execution_count": 63,
     "metadata": {},
     "output_type": "execute_result"
    }
   ],
   "source": [
    "predicted_value_test_random = np.dot(x_best_test,theta_optimal)\n",
    "MSE_test_best = np.sum(np.square(predicted_value_test_random-y_best_test))\n",
    "MSE_test_best"
   ]
  }
 ],
 "metadata": {
  "kernelspec": {
   "display_name": "Python 3",
   "language": "python",
   "name": "python3"
  },
  "language_info": {
   "codemirror_mode": {
    "name": "ipython",
    "version": 3
   },
   "file_extension": ".py",
   "mimetype": "text/x-python",
   "name": "python",
   "nbconvert_exporter": "python",
   "pygments_lexer": "ipython3",
   "version": "3.7.3"
  }
 },
 "nbformat": 4,
 "nbformat_minor": 2
}
